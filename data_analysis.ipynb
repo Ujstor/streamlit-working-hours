{
 "cells": [
  {
   "cell_type": "code",
   "execution_count": null,
   "metadata": {},
   "outputs": [],
   "source": [
    "import pandas as pd\n",
    "import numpy as np\n",
    "import matplotlib.pyplot as plt\n",
    "import seaborn as sns\n",
    "\n",
    "%matplotlib inline"
   ]
  },
  {
   "cell_type": "code",
   "execution_count": null,
   "metadata": {},
   "outputs": [],
   "source": [
    "df = pd.read_csv(\n",
    "    './data/final_data.csv', \n",
    "    parse_dates=['date'],)"
   ]
  },
  {
   "cell_type": "code",
   "execution_count": null,
   "metadata": {},
   "outputs": [],
   "source": [
    "df['total_time_hour'] = (df['drive_time_min']) / 60"
   ]
  },
  {
   "cell_type": "code",
   "execution_count": null,
   "metadata": {},
   "outputs": [],
   "source": [
    "df.sort_values(by='date', inplace=True)"
   ]
  },
  {
   "cell_type": "code",
   "execution_count": null,
   "metadata": {},
   "outputs": [],
   "source": [
    "df.info()"
   ]
  },
  {
   "cell_type": "code",
   "execution_count": null,
   "metadata": {},
   "outputs": [],
   "source": [
    "df.describe()"
   ]
  },
  {
   "cell_type": "code",
   "execution_count": null,
   "metadata": {},
   "outputs": [],
   "source": [
    "ax = df['total_time_hour'].plot(kind='density', figsize=(15, 6))\n",
    "ax.axvline(df['total_time_hour'].mean(), color='red')\n",
    "ax.axvline(df['total_time_hour'].median(), color='green')\n",
    "\n",
    "ticks = np.arange(4, 14, 0.5)\n",
    "ax.set_xticks(ticks)\n",
    "\n",
    "detailed_ticks = [tick if tick % 1 == 0 else '' for tick in ticks]\n",
    "ax.set_xticklabels(detailed_ticks)\n",
    "\n",
    "ax.set_xlim(4, 13)\n",
    "\n",
    "plt.show()\n"
   ]
  },
  {
   "cell_type": "code",
   "execution_count": null,
   "metadata": {},
   "outputs": [],
   "source": [
    "import matplotlib.dates as mdates\n",
    "\n",
    "fig, ax = plt.subplots(figsize=(16, 6))\n",
    "ax.scatter(df['date'], df['total_time_hour'])\n",
    "# Set the x-axis major locator to show months\n",
    "locator = mdates.MonthLocator()\n",
    "ax.xaxis.set_major_locator(locator)\n",
    "\n",
    "# Set the x-axis date format to show only months\n",
    "ax.xaxis.set_major_formatter(mdates.DateFormatter('%Y-%m'))\n",
    "\n",
    "# Rotate the x-axis tick labels for better visibility\n",
    "plt.xticks(rotation=45)\n",
    "\n",
    "plt.show()"
   ]
  },
  {
   "cell_type": "code",
   "execution_count": null,
   "metadata": {},
   "outputs": [],
   "source": [
    "ax = df['total_time_hour'].plot(kind='hist', figsize=(15, 6), bins=60, fontsize=14)\n",
    "ax.set_ylabel('Days')\n",
    "ax.set_xlabel('Working Hours')\n",
    "\n",
    "ticks = np.arange(4, 13, 0.5)\n",
    "ax.set_xticks(ticks)\n",
    "\n",
    "detailed_ticks = np.arange(4, 13, 0.5)\n",
    "ax.set_xticklabels(detailed_ticks)\n",
    "\n",
    "plt.show()"
   ]
  },
  {
   "cell_type": "code",
   "execution_count": null,
   "metadata": {},
   "outputs": [],
   "source": [
    "# spread and central tendency of total time for different years.\n",
    "plt.figure(figsize=(10, 6))\n",
    "sns.boxplot(x=df['date'].dt.year, y=df['total_time_hour'])\n",
    "plt.xlabel('Year')\n",
    "plt.ylabel('Total Time (hours)')\n",
    "plt.title('Distribution of Total Time by Year')\n",
    "plt.grid(True)\n",
    "plt.show()"
   ]
  },
  {
   "cell_type": "code",
   "execution_count": null,
   "metadata": {},
   "outputs": [],
   "source": [
    "df['month'] = df['date'].dt.month\n",
    "monthly_avg_total_time = df.groupby('month')['total_time_hour'].mean()\n",
    "\n",
    "# Create a line chart to show the trend of total_time_hour over the months\n",
    "plt.figure(figsize=(15, 6))\n",
    "plt.plot(monthly_avg_total_time.index, monthly_avg_total_time.values, marker='o', linestyle='-')\n",
    "plt.xlabel('Month')\n",
    "plt.ylabel('Average Total Time (hours)')\n",
    "plt.title('Trend of Total Time over the Months')\n",
    "plt.xticks(range(1, 13), ['Jan', 'Feb', 'Mar', 'Apr', 'May', 'Jun', 'Jul', 'Aug', 'Sep', 'Oct', 'Nov', 'Dec'])\n",
    "plt.grid(True)\n",
    "plt.show()"
   ]
  },
  {
   "cell_type": "code",
   "execution_count": null,
   "metadata": {},
   "outputs": [],
   "source": [
    "df['year'] = df['date'].dt.year\n",
    "df['month'] = df['date'].dt.month\n",
    "sum_working_hours_per_month = df.groupby(['year', 'month'])['total_time_hour'].sum()\n",
    "df_result = sum_working_hours_per_month.reset_index()\n",
    "pivot_result = df_result.pivot_table(index='year', columns='month', values='total_time_hour', fill_value=0)\n",
    "\n",
    "pivot_result.plot(kind='bar', stacked=True, figsize=(10, 6))\n",
    "plt.title('Total Working Hours per Month (Year-wise)')\n",
    "plt.xlabel('Month')\n",
    "plt.ylabel('Working Hours')\n",
    "plt.legend(title='Year', loc='upper left', bbox_to_anchor=(1, 1))\n",
    "plt.xticks(rotation=0)\n",
    "plt.show()"
   ]
  },
  {
   "cell_type": "code",
   "execution_count": null,
   "metadata": {},
   "outputs": [],
   "source": [
    "plt.figure(figsize=(15, 4))\n",
    "sns.heatmap(pivot_result, annot=True, fmt=\".1f\", cmap='YlGnBu', linewidths=0.5)\n",
    "plt.title('Working Hours Heatmap (Year-wise)')\n",
    "plt.xlabel('Month')\n",
    "plt.ylabel('Year')\n",
    "plt.show()"
   ]
  },
  {
   "cell_type": "code",
   "execution_count": null,
   "metadata": {},
   "outputs": [],
   "source": [
    "grouped_df = df.groupby(df['date'].dt.year)\n",
    "# Iterate over each group (year) and create a visual calendar\n",
    "for year, year_data in grouped_df:\n",
    "    # Create a DataFrame with all days of the year\n",
    "    min_date = year_data['date'].min()\n",
    "    max_date = year_data['date'].max()\n",
    "    all_dates = pd.date_range(start=min_date, end=max_date)\n",
    "\n",
    "    # Create a DataFrame for all days of the year\n",
    "    calendar_df = pd.DataFrame({'date': all_dates})\n",
    "\n",
    "    # Merge the calendar DataFrame with the actual DataFrame to mark working days\n",
    "    calendar_df = pd.merge(calendar_df, year_data[['date', 'total_time_hour']], on='date', how='left')\n",
    "\n",
    "    # Fill NaN (missing values) with 0 to represent free days\n",
    "    calendar_df['total_time_hour'].fillna(0, inplace=True)\n",
    "\n",
    "    # Pivot the DataFrame for the heatmap-like visualization\n",
    "    calendar_pivot = calendar_df.pivot_table(index=calendar_df['date'].dt.month,\n",
    "                                            columns=calendar_df['date'].dt.day,\n",
    "                                            values='total_time_hour',\n",
    "                                            fill_value=0)\n",
    "\n",
    "    # Set up the figure and plot the heatmap\n",
    "    plt.figure(figsize=(15, 5))\n",
    "    sns.heatmap(calendar_pivot, cmap='coolwarm', annot=True, fmt=\".1f\", linewidths=0.5, cbar=False)\n",
    "\n",
    "    # Set the labels and title\n",
    "    plt.xlabel('Day')\n",
    "    plt.ylabel('Month')\n",
    "    plt.title(f'Visual Calendar - Working Hours ({year})')\n",
    "\n",
    "    plt.show()"
   ]
  }
 ],
 "metadata": {
  "kernelspec": {
   "display_name": "Python 3 (ipykernel)",
   "language": "python",
   "name": "python3"
  },
  "language_info": {
   "codemirror_mode": {
    "name": "ipython",
    "version": 3
   },
   "file_extension": ".py",
   "mimetype": "text/x-python",
   "name": "python",
   "nbconvert_exporter": "python",
   "pygments_lexer": "ipython3",
   "version": "3.10.10"
  },
  "toc": {
   "base_numbering": 1,
   "nav_menu": {},
   "number_sections": true,
   "sideBar": true,
   "skip_h1_title": false,
   "title_cell": "Table of Contents",
   "title_sidebar": "Contents",
   "toc_cell": false,
   "toc_position": {},
   "toc_section_display": true,
   "toc_window_display": false
  }
 },
 "nbformat": 4,
 "nbformat_minor": 2
}
